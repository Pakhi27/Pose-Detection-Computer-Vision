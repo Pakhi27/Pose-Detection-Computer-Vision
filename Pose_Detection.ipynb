{
  "nbformat": 4,
  "nbformat_minor": 0,
  "metadata": {
    "colab": {
      "provenance": [],
      "authorship_tag": "ABX9TyPMr4suohMcWfF+uesuENfL",
      "include_colab_link": true
    },
    "kernelspec": {
      "name": "python3",
      "display_name": "Python 3"
    },
    "language_info": {
      "name": "python"
    }
  },
  "cells": [
    {
      "cell_type": "markdown",
      "metadata": {
        "id": "view-in-github",
        "colab_type": "text"
      },
      "source": [
        "<a href=\"https://colab.research.google.com/github/Pakhi27/Pose-Estimation-Computer-Vision/blob/main/Pose_Detection.ipynb\" target=\"_parent\"><img src=\"https://colab.research.google.com/assets/colab-badge.svg\" alt=\"Open In Colab\"/></a>"
      ]
    },
    {
      "cell_type": "markdown",
      "source": [
        "Pose Dataset"
      ],
      "metadata": {
        "id": "q60EARZHIc58"
      }
    },
    {
      "cell_type": "markdown",
      "source": [
        "PoseNet Model"
      ],
      "metadata": {
        "id": "LpwJWv2BXHHq"
      }
    },
    {
      "cell_type": "code",
      "source": [
        "import tensorflow as tf\n",
        "import tensorflow_hub as hub\n",
        "import cv2\n",
        "import numpy as np\n",
        "\n",
        "# Load the PoseNet model (MoveNet SinglePose Lightning)\n",
        "model = hub.load('https://tfhub.dev/google/movenet/singlepose/lightning/4')\n",
        "\n",
        "# Define keypoint pairs for drawing the skeleton\n",
        "# These are based on the MoveNet output keypoints\n",
        "KEYPOINT_CONNECTIONS = [\n",
        "    (0, 1), (1, 2), (2, 3), (3, 4),   # Nose to shoulders\n",
        "    (0, 5), (5, 6), (6, 7),           # Left shoulder to left elbow and wrist\n",
        "    (0, 11), (11, 12), (12, 13),      # Right shoulder to right elbow and wrist\n",
        "    (0, 8), (8, 9), (9, 10),          # Right hip to knee and ankle\n",
        "    (0, 14), (14, 15), (15, 16)       # Left hip to knee and ankle\n",
        "]\n",
        "\n",
        "def detect_pose(image):\n",
        "    # Preprocess the image\n",
        "    input_image = tf.image.resize_with_pad(np.expand_dims(image, axis=0), 192, 192)\n",
        "    input_image = tf.cast(input_image, dtype=tf.int32)\n",
        "\n",
        "    # Run model inference\n",
        "    outputs = model.signatures['serving_default'](input_image)\n",
        "\n",
        "    # Output keypoints and confidence scores\n",
        "    keypoints = outputs['output_0'].numpy()\n",
        "    return keypoints\n",
        "\n",
        "def draw_skeleton(image, keypoints, confidence_threshold=0.4):\n",
        "    # The keypoints are in the format [y, x, confidence]\n",
        "    keypoints = keypoints[0][0]\n",
        "    h, w, _ = image.shape\n",
        "\n",
        "    # Draw lines between keypoints\n",
        "    for connection in KEYPOINT_CONNECTIONS:\n",
        "        start_idx, end_idx = connection\n",
        "        start_keypoint = keypoints[start_idx]\n",
        "        end_keypoint = keypoints[end_idx]\n",
        "\n",
        "        # Unpack the coordinates and confidence\n",
        "        start_y, start_x, start_conf = start_keypoint\n",
        "        end_y, end_x, end_conf = end_keypoint\n",
        "\n",
        "        # Draw the line only if both keypoints have high confidence\n",
        "        if start_conf > confidence_threshold and end_conf > confidence_threshold:\n",
        "            # Convert normalized coordinates to pixel values\n",
        "            start_px, start_py = int(start_x * w), int(start_y * h)\n",
        "            end_px, end_py = int(end_x * w), int(end_y * h)\n",
        "            # Draw the line between the points\n",
        "            cv2.line(image, (start_px, start_py), (end_px, end_py), (0, 255, 0), 2)\n",
        "\n",
        "    # Draw keypoints on the image\n",
        "    for i, keypoint in enumerate(keypoints):\n",
        "        y, x, confidence = keypoint\n",
        "        if confidence > confidence_threshold:\n",
        "            px, py = int(x * w), int(y * h)\n",
        "            cv2.circle(image, (px, py), 5, (0, 0, 255), -1)\n",
        "\n",
        "    return image\n",
        "\n",
        "# Load your image\n",
        "image = cv2.imread('/content/pose_2.jpeg')\n",
        "\n",
        "# Detect the pose keypoints\n",
        "keypoints = detect_pose(image)\n",
        "\n",
        "# Draw the skeleton on the image\n",
        "image_with_skeleton = draw_skeleton(image.copy(), keypoints)\n",
        "\n",
        "# Save the image with skeleton\n",
        "cv2.imwrite('/content/output_image_with_skeleton.jpg', image_with_skeleton)\n",
        "\n",
        "print(\"Image saved with skeleton: /content/output_image_with_skeleton.jpg\")\n"
      ],
      "metadata": {
        "colab": {
          "base_uri": "https://localhost:8080/"
        },
        "id": "VUy-0v6cRc4F",
        "outputId": "352a0bab-405a-44a7-dbf2-9e2a8d70d45d"
      },
      "execution_count": 30,
      "outputs": [
        {
          "output_type": "stream",
          "name": "stdout",
          "text": [
            "Image saved with skeleton: /content/output_image_with_skeleton.jpg\n"
          ]
        }
      ]
    },
    {
      "cell_type": "markdown",
      "source": [
        "MoveNet Model-Tensorflow"
      ],
      "metadata": {
        "id": "zM92r8o2U8_m"
      }
    },
    {
      "cell_type": "code",
      "source": [
        "import tensorflow as tf\n",
        "import tensorflow_hub as hub\n",
        "import cv2\n",
        "import numpy as np\n",
        "\n",
        "# Load the MoveNet model\n",
        "model = hub.load('https://tfhub.dev/google/movenet/singlepose/lightning/4')\n",
        "\n",
        "def detect_pose(image):\n",
        "    # Preprocess the image\n",
        "    input_image = tf.image.resize_with_pad(np.expand_dims(image, axis=0), 192, 192)\n",
        "    input_image = tf.cast(input_image, dtype=tf.int32)\n",
        "\n",
        "    # Run model inference\n",
        "    outputs = model.signatures['serving_default'](input_image)\n",
        "\n",
        "    # Output keypoints and confidence scores\n",
        "    keypoints = outputs['output_0'].numpy()\n",
        "    return keypoints\n",
        "\n",
        "def draw_keypoints(image, keypoints, confidence_threshold=0.3):\n",
        "    height, width, _ = image.shape\n",
        "    for keypoint in keypoints[0, 0, :, :]:\n",
        "        y, x, confidence = keypoint\n",
        "        if confidence > confidence_threshold:\n",
        "            cv2.circle(image, (int(x * width), int(y * height)), 5, (0, 255, 0), -1)\n",
        "    return image\n",
        "\n",
        "# Load your image\n",
        "image = cv2.imread('/content/pose_2.jpeg')\n",
        "\n",
        "# Detect the pose\n",
        "keypoints = detect_pose(image)\n",
        "\n",
        "# Draw keypoints\n",
        "image_with_keypoints = draw_keypoints(image.copy(), keypoints)\n",
        "\n",
        "# Save the image with pose keypoints\n",
        "cv2.imwrite('/content/output_pose_tensorflow.png', image_with_keypoints)\n",
        "\n",
        "print(\"Image saved as '/content/output_pose_tensorflow.png'\")\n"
      ],
      "metadata": {
        "colab": {
          "base_uri": "https://localhost:8080/"
        },
        "id": "xgakBQW3RmgF",
        "outputId": "45a6050e-8512-4426-b6ed-83867b08b7c8"
      },
      "execution_count": 36,
      "outputs": [
        {
          "output_type": "stream",
          "name": "stdout",
          "text": [
            "Image saved as '/content/output_pose_tensorflow.png'\n"
          ]
        }
      ]
    },
    {
      "cell_type": "markdown",
      "source": [
        "OpenPose (Alternative Method):BlazePose Setup"
      ],
      "metadata": {
        "id": "DkxhBGPOVHb2"
      }
    },
    {
      "cell_type": "code",
      "source": [
        "!pip install mediapipe\n"
      ],
      "metadata": {
        "colab": {
          "base_uri": "https://localhost:8080/"
        },
        "id": "xkiRzLGGVPdr",
        "outputId": "68f56202-a027-48e8-f532-5a4743f69912"
      },
      "execution_count": 34,
      "outputs": [
        {
          "output_type": "stream",
          "name": "stdout",
          "text": [
            "Collecting mediapipe\n",
            "  Downloading mediapipe-0.10.15-cp310-cp310-manylinux_2_17_x86_64.manylinux2014_x86_64.whl.metadata (9.7 kB)\n",
            "Requirement already satisfied: absl-py in /usr/local/lib/python3.10/dist-packages (from mediapipe) (1.4.0)\n",
            "Requirement already satisfied: attrs>=19.1.0 in /usr/local/lib/python3.10/dist-packages (from mediapipe) (24.2.0)\n",
            "Requirement already satisfied: flatbuffers>=2.0 in /usr/local/lib/python3.10/dist-packages (from mediapipe) (24.3.25)\n",
            "Requirement already satisfied: jax in /usr/local/lib/python3.10/dist-packages (from mediapipe) (0.4.26)\n",
            "Requirement already satisfied: jaxlib in /usr/local/lib/python3.10/dist-packages (from mediapipe) (0.4.26+cuda12.cudnn89)\n",
            "Requirement already satisfied: matplotlib in /usr/local/lib/python3.10/dist-packages (from mediapipe) (3.7.1)\n",
            "Requirement already satisfied: numpy<2 in /usr/local/lib/python3.10/dist-packages (from mediapipe) (1.26.4)\n",
            "Requirement already satisfied: opencv-contrib-python in /usr/local/lib/python3.10/dist-packages (from mediapipe) (4.10.0.84)\n",
            "Collecting protobuf<5,>=4.25.3 (from mediapipe)\n",
            "  Downloading protobuf-4.25.4-cp37-abi3-manylinux2014_x86_64.whl.metadata (541 bytes)\n",
            "Collecting sounddevice>=0.4.4 (from mediapipe)\n",
            "  Downloading sounddevice-0.5.0-py3-none-any.whl.metadata (1.4 kB)\n",
            "Requirement already satisfied: CFFI>=1.0 in /usr/local/lib/python3.10/dist-packages (from sounddevice>=0.4.4->mediapipe) (1.17.1)\n",
            "Requirement already satisfied: ml-dtypes>=0.2.0 in /usr/local/lib/python3.10/dist-packages (from jax->mediapipe) (0.4.0)\n",
            "Requirement already satisfied: opt-einsum in /usr/local/lib/python3.10/dist-packages (from jax->mediapipe) (3.3.0)\n",
            "Requirement already satisfied: scipy>=1.9 in /usr/local/lib/python3.10/dist-packages (from jax->mediapipe) (1.13.1)\n",
            "Requirement already satisfied: contourpy>=1.0.1 in /usr/local/lib/python3.10/dist-packages (from matplotlib->mediapipe) (1.3.0)\n",
            "Requirement already satisfied: cycler>=0.10 in /usr/local/lib/python3.10/dist-packages (from matplotlib->mediapipe) (0.12.1)\n",
            "Requirement already satisfied: fonttools>=4.22.0 in /usr/local/lib/python3.10/dist-packages (from matplotlib->mediapipe) (4.53.1)\n",
            "Requirement already satisfied: kiwisolver>=1.0.1 in /usr/local/lib/python3.10/dist-packages (from matplotlib->mediapipe) (1.4.7)\n",
            "Requirement already satisfied: packaging>=20.0 in /usr/local/lib/python3.10/dist-packages (from matplotlib->mediapipe) (24.1)\n",
            "Requirement already satisfied: pillow>=6.2.0 in /usr/local/lib/python3.10/dist-packages (from matplotlib->mediapipe) (9.4.0)\n",
            "Requirement already satisfied: pyparsing>=2.3.1 in /usr/local/lib/python3.10/dist-packages (from matplotlib->mediapipe) (3.1.4)\n",
            "Requirement already satisfied: python-dateutil>=2.7 in /usr/local/lib/python3.10/dist-packages (from matplotlib->mediapipe) (2.8.2)\n",
            "Requirement already satisfied: pycparser in /usr/local/lib/python3.10/dist-packages (from CFFI>=1.0->sounddevice>=0.4.4->mediapipe) (2.22)\n",
            "Requirement already satisfied: six>=1.5 in /usr/local/lib/python3.10/dist-packages (from python-dateutil>=2.7->matplotlib->mediapipe) (1.16.0)\n",
            "Downloading mediapipe-0.10.15-cp310-cp310-manylinux_2_17_x86_64.manylinux2014_x86_64.whl (35.9 MB)\n",
            "\u001b[2K   \u001b[90m━━━━━━━━━━━━━━━━━━━━━━━━━━━━━━━━━━━━━━━━\u001b[0m \u001b[32m35.9/35.9 MB\u001b[0m \u001b[31m26.7 MB/s\u001b[0m eta \u001b[36m0:00:00\u001b[0m\n",
            "\u001b[?25hDownloading protobuf-4.25.4-cp37-abi3-manylinux2014_x86_64.whl (294 kB)\n",
            "\u001b[2K   \u001b[90m━━━━━━━━━━━━━━━━━━━━━━━━━━━━━━━━━━━━━━━━\u001b[0m \u001b[32m294.6/294.6 kB\u001b[0m \u001b[31m25.4 MB/s\u001b[0m eta \u001b[36m0:00:00\u001b[0m\n",
            "\u001b[?25hDownloading sounddevice-0.5.0-py3-none-any.whl (32 kB)\n",
            "Installing collected packages: protobuf, sounddevice, mediapipe\n",
            "  Attempting uninstall: protobuf\n",
            "    Found existing installation: protobuf 3.20.3\n",
            "    Uninstalling protobuf-3.20.3:\n",
            "      Successfully uninstalled protobuf-3.20.3\n",
            "\u001b[31mERROR: pip's dependency resolver does not currently take into account all the packages that are installed. This behaviour is the source of the following dependency conflicts.\n",
            "tensorflow-metadata 1.15.0 requires protobuf<4.21,>=3.20.3; python_version < \"3.11\", but you have protobuf 4.25.4 which is incompatible.\u001b[0m\u001b[31m\n",
            "\u001b[0mSuccessfully installed mediapipe-0.10.15 protobuf-4.25.4 sounddevice-0.5.0\n"
          ]
        }
      ]
    },
    {
      "cell_type": "code",
      "source": [
        "import cv2\n",
        "import mediapipe as mp\n",
        "\n",
        "# Initialize BlazePose\n",
        "mp_pose = mp.solutions.pose\n",
        "pose = mp_pose.Pose()\n",
        "\n",
        "# Load image\n",
        "image = cv2.imread('/content/pose_2.jpeg')\n",
        "image_rgb = cv2.cvtColor(image, cv2.COLOR_BGR2RGB)\n",
        "\n",
        "# Process the image to detect pose\n",
        "results = pose.process(image_rgb)\n",
        "\n",
        "# Draw landmarks on the image\n",
        "if results.pose_landmarks:\n",
        "    mp_drawing = mp.solutions.drawing_utils\n",
        "    mp_drawing.draw_landmarks(image, results.pose_landmarks, mp_pose.POSE_CONNECTIONS)\n",
        "\n",
        "# Save the result image\n",
        "cv2.imwrite(\"/content/output_pose_mediapipe.png\", image)\n",
        "\n",
        "print(\"Image saved as '/content/output_pose_mediapipe.png'\")\n"
      ],
      "metadata": {
        "colab": {
          "base_uri": "https://localhost:8080/"
        },
        "id": "1XU9L1Y0UdDc",
        "outputId": "ea243621-9df9-4748-a630-5999b3e68eb8"
      },
      "execution_count": 37,
      "outputs": [
        {
          "output_type": "stream",
          "name": "stdout",
          "text": [
            "Image saved as '/content/output_pose_mediapipe.png'\n"
          ]
        }
      ]
    },
    {
      "cell_type": "code",
      "source": [],
      "metadata": {
        "id": "z2Sof3i8UlYg"
      },
      "execution_count": null,
      "outputs": []
    }
  ]
}